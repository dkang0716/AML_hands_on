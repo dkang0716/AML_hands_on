{
 "cells": [
  {
   "cell_type": "code",
   "execution_count": 1,
   "metadata": {},
   "outputs": [
    {
     "name": "stdout",
     "output_type": "stream",
     "text": [
      "Azure ML SDK Version:  1.0.43\n"
     ]
    }
   ],
   "source": [
    "%matplotlib inline\n",
    "import numpy as np\n",
    "import matplotlib.pyplot as plt\n",
    "\n",
    "import azureml.core\n",
    "from azureml.core import Workspace\n",
    "\n",
    "# check core SDK version number\n",
    "print(\"Azure ML SDK Version: \", azureml.core.VERSION)"
   ]
  },
  {
   "cell_type": "code",
   "execution_count": 2,
   "metadata": {},
   "outputs": [
    {
     "name": "stdout",
     "output_type": "stream",
     "text": [
      "Dian_ws\twesteurope\tDian\twesteurope\n"
     ]
    }
   ],
   "source": [
    "#create workspace on Azure and connect the local notebook to workspace\n",
    "ws = Workspace.get(name=\"Dian_ws\", subscription_id='49cf6cbe-2987-4a45-9d6e-955ab6e10fde', resource_group='Dian')\n",
    "print(ws.name, ws.location, ws.resource_group, ws.location, sep='\\t')"
   ]
  },
  {
   "cell_type": "code",
   "execution_count": 3,
   "metadata": {},
   "outputs": [],
   "source": [
    "# Create the BlockBlockService that is used to call the Blob service for the storage account.\n",
    "from azure.storage.blob import BlockBlobService\n",
    "block_blob_service = BlockBlobService(account_name = 'dianws2583025325', account_key = 'EJbizu7oi2MT9v5ADB7Y/8+QZlZ7cVkcItnTPBTr8Xooa6iVzsV2ZVZIM/qTSRW14Xt1GhmkuK5OJaJKKDZ0ug==')"
   ]
  },
  {
   "cell_type": "code",
   "execution_count": 126,
   "metadata": {},
   "outputs": [
    {
     "data": {
      "text/plain": [
       "<azure.storage.blob.blockblobservice.BlockBlobService at 0x2d6b754e4e0>"
      ]
     },
     "execution_count": 126,
     "metadata": {},
     "output_type": "execute_result"
    }
   ],
   "source": [
    "block_blob_service"
   ]
  },
  {
   "cell_type": "markdown",
   "metadata": {},
   "source": [
    "### Methode2 :  Use data_folder to upload data files"
   ]
  },
  {
   "cell_type": "code",
   "execution_count": 151,
   "metadata": {},
   "outputs": [
    {
     "name": "stderr",
     "output_type": "stream",
     "text": [
      "C:\\Users\\dian.kang\\AppData\\Local\\Continuum\\anaconda3\\envs\\tfenv\\lib\\site-packages\\ipykernel_launcher.py:30: FutureWarning: The signature of `Series.to_csv` was aligned to that of `DataFrame.to_csv`, and argument 'header' will change its default value from False to True: please pass an explicit value to suppress this warning.\n"
     ]
    }
   ],
   "source": [
    "df = pd.read_csv('./DATA-rti/RTI.csv',sep=\",\")\n",
    "serie = pd.Series(df['FR0010172437'].values, index=pd.to_datetime(df['edvie_his_vl.db_val_liq']) )\n",
    "\n",
    "X = serie\n",
    "step_len = 2\n",
    "step_forecast = 1\n",
    "#### fill na###################\n",
    "X = X.fillna(method='pad').dropna()\n",
    "\n",
    "df,df_name =[], []\n",
    "#### delay ###################\n",
    "for i in range(step_len):\n",
    "    df.append(X.shift(step_forecast + i))\n",
    "    df_name.append('step_delay_{}'.format(i))\n",
    "\n",
    "### day of week#################\n",
    "df.append(pd.Series(X.index.dayofweek, index=X.index))\n",
    "df_name.append('day_of_week')\n",
    "\n",
    "df=pd.concat(df, axis=1)\n",
    "df.columns=df_name\n",
    "        \n",
    "###moving diff################\n",
    "df['diff_mov'] = df['step_delay_0']-df['step_delay_1']\n",
    "\n",
    "y_train = X[(step_len+step_forecast-1):]\n",
    "\n",
    "X_train = df[(step_len+step_forecast-1):]\n",
    "\n",
    "y_train.to_csv('./DATA-rti/target_train.csv')\n",
    "X_train.to_csv('./DATA-rti/x_train.csv')\n"
   ]
  },
  {
   "cell_type": "code",
   "execution_count": 134,
   "metadata": {},
   "outputs": [
    {
     "name": "stdout",
     "output_type": "stream",
     "text": [
      "AzureBlob dianws2583025325 azureml-blobstore-69868bc8-70ba-42ae-b703-53ac7320976a\n",
      "Uploading C:\\Users\\dian.kang\\Desktop\\Formation\\ts\\DATA-rti\\.ipynb_checkpoints\\RTI-checkpoint.csv\n",
      "Uploading C:\\Users\\dian.kang\\Desktop\\Formation\\ts\\DATA-rti\\RTI.csv\n",
      "Uploading C:\\Users\\dian.kang\\Desktop\\Formation\\ts\\DATA-rti\\target_train.csv\n",
      "Uploading C:\\Users\\dian.kang\\Desktop\\Formation\\ts\\DATA-rti\\x_train.csv\n",
      "Uploaded C:\\Users\\dian.kang\\Desktop\\Formation\\ts\\DATA-rti\\target_train.csv, 1 files out of an estimated total of 4\n",
      "Uploaded C:\\Users\\dian.kang\\Desktop\\Formation\\ts\\DATA-rti\\x_train.csv, 2 files out of an estimated total of 4\n",
      "Uploaded C:\\Users\\dian.kang\\Desktop\\Formation\\ts\\DATA-rti\\.ipynb_checkpoints\\RTI-checkpoint.csv, 3 files out of an estimated total of 4\n",
      "Uploaded C:\\Users\\dian.kang\\Desktop\\Formation\\ts\\DATA-rti\\RTI.csv, 4 files out of an estimated total of 4\n"
     ]
    },
    {
     "data": {
      "text/plain": [
       "$AZUREML_DATAREFERENCE_63273ea5b044474790f73d7ba3518ce1"
      ]
     },
     "execution_count": 134,
     "metadata": {},
     "output_type": "execute_result"
    }
   ],
   "source": [
    "import os\n",
    "data_folder = os.path.join(os.getcwd(), 'DATA-rti')\n",
    "os.makedirs(data_folder, exist_ok=True)\n",
    "\n",
    "\n",
    "ds = ws.get_default_datastore()\n",
    "print(ds.datastore_type, ds.account_name, ds.container_name)\n",
    "\n",
    "ds.upload(src_dir=data_folder, target_path='rti_data', overwrite=True, show_progress=True)"
   ]
  },
  {
   "cell_type": "markdown",
   "metadata": {},
   "source": [
    "### Train on a remote cluster"
   ]
  },
  {
   "cell_type": "code",
   "execution_count": 152,
   "metadata": {},
   "outputs": [],
   "source": [
    "#Create a directory to deliver the necessary code from your computer to the remote resource.\n",
    "import os\n",
    "script_folder = os.path.join(os.getcwd(), \"sklearn-rti\")\n",
    "os.makedirs(script_folder, exist_ok=True)"
   ]
  },
  {
   "cell_type": "code",
   "execution_count": 167,
   "metadata": {},
   "outputs": [
    {
     "name": "stdout",
     "output_type": "stream",
     "text": [
      "Overwriting C:\\Users\\dian.kang\\Desktop\\Formation\\ts\\sklearn-rti/train.py\n"
     ]
    }
   ],
   "source": [
    "%%writefile $script_folder/train.py\n",
    "\n",
    "import argparse\n",
    "import os\n",
    "import joblib\n",
    "from azureml.core import Run\n",
    "\n",
    "from sklearn.linear_model import LinearRegression\n",
    "import pandas as pd\n",
    "import numpy as np\n",
    "\n",
    "# let user feed in 2 parameters, the location of the data files (from datastore), and the regularization rate of the logistic regression model\n",
    "parser = argparse.ArgumentParser()\n",
    "parser.add_argument('--data-folder', type=str, dest='data_folder', help='data folder mounting point')\n",
    "args = parser.parse_args()\n",
    "\n",
    "data_folder = args.data_folder\n",
    "print('Data folder:', data_folder)\n",
    "    \n",
    "# load train and test set into numpy arrays\n",
    "y_train = pd.Series.from_csv(os.path.join(data_folder, 'target_train.csv'),sep=\",\")\n",
    "X_train = pd.read_csv(os.path.join(data_folder, 'x_train.csv'),sep=\",\", index_col=0)\n",
    "\n",
    "# get hold of the current run\n",
    "run = Run.get_context()\n",
    "\n",
    "model = LinearRegression()\n",
    "model.fit(X_train, y_train)\n",
    "\n",
    "# calculate accuracy on the prediction\n",
    "accuracy = model.score(X_train, y_train)\n",
    "\n",
    "run.log('accuracy', np.float(accuracy))\n",
    "\n",
    "os.makedirs('outputs', exist_ok=True)\n",
    "# note file saved in the outputs folder is automatically uploaded into experiment record\n",
    "joblib.dump(value=model, filename='outputs/sklearn_rti_model_v2.pkl')"
   ]
  },
  {
   "cell_type": "code",
   "execution_count": 168,
   "metadata": {},
   "outputs": [
    {
     "name": "stdout",
     "output_type": "stream",
     "text": [
      "Found existing cluster, use it.\n",
      "Succeeded\n",
      "AmlCompute wait for completion finished\n",
      "Minimum number of nodes requested have been provisioned\n"
     ]
    }
   ],
   "source": [
    "from azureml.core.compute import ComputeTarget, AmlCompute\n",
    "from azureml.core.compute_target import ComputeTargetException\n",
    "\n",
    "# Choose a name for your CPU cluster\n",
    "cpu_cluster_name = \"cpucluster\"\n",
    "\n",
    "# Verify that cluster does not exist already\n",
    "try:\n",
    "    cpu_cluster = ComputeTarget(workspace=ws, name=cpu_cluster_name)\n",
    "    print('Found existing cluster, use it.')\n",
    "except ComputeTargetException:\n",
    "    compute_config = AmlCompute.provisioning_configuration(vm_size='STANDARD_D2_V2',\n",
    "                                                           max_nodes=4)\n",
    "    cpu_cluster = ComputeTarget.create(ws, cpu_cluster_name, compute_config)\n",
    "    \n",
    "cpu_cluster.wait_for_completion(show_output=True)"
   ]
  },
  {
   "cell_type": "code",
   "execution_count": 169,
   "metadata": {},
   "outputs": [],
   "source": [
    "from azureml.core import Experiment\n",
    "experiment_name = 'my_experiment_rti_v2'\n",
    "\n",
    "exp = Experiment(workspace=ws, name=experiment_name)\n"
   ]
  },
  {
   "cell_type": "code",
   "execution_count": 170,
   "metadata": {},
   "outputs": [],
   "source": [
    "from azureml.train.estimator import Estimator\n",
    "\n",
    "script_params = {\n",
    "    '--data-folder': ds.path('rti_data').as_mount()  \n",
    "}\n",
    "\n",
    "est = Estimator(source_directory=script_folder,\n",
    "                script_params=script_params,\n",
    "                compute_target=cpu_cluster,\n",
    "                entry_script='train.py',\n",
    "                conda_packages=['pandas','scikit-learn'])\n",
    "\n"
   ]
  },
  {
   "cell_type": "code",
   "execution_count": 171,
   "metadata": {},
   "outputs": [
    {
     "data": {
      "text/html": [
       "<table style=\"width:100%\"><tr><th>Experiment</th><th>Id</th><th>Type</th><th>Status</th><th>Details Page</th><th>Docs Page</th></tr><tr><td>my_experiment_rti_v2</td><td>my_experiment_rti_v2_1561313025_d10df957</td><td>azureml.scriptrun</td><td>Queued</td><td><a href=\"https://mlworkspace.azure.ai/portal/subscriptions/49cf6cbe-2987-4a45-9d6e-955ab6e10fde/resourceGroups/Dian/providers/Microsoft.MachineLearningServices/workspaces/Dian_ws/experiments/my_experiment_rti_v2/runs/my_experiment_rti_v2_1561313025_d10df957\" target=\"_blank\" rel=\"noopener\">Link to Azure Portal</a></td><td><a href=\"https://docs.microsoft.com/en-us/python/api/azureml-core/azureml.core.script_run.ScriptRun?view=azure-ml-py\" target=\"_blank\" rel=\"noopener\">Link to Documentation</a></td></tr></table>"
      ],
      "text/plain": [
       "Run(Experiment: my_experiment_rti_v2,\n",
       "Id: my_experiment_rti_v2_1561313025_d10df957,\n",
       "Type: azureml.scriptrun,\n",
       "Status: Queued)"
      ]
     },
     "execution_count": 171,
     "metadata": {},
     "output_type": "execute_result"
    }
   ],
   "source": [
    "run = exp.submit(config=est)\n",
    "run"
   ]
  },
  {
   "cell_type": "code",
   "execution_count": 208,
   "metadata": {},
   "outputs": [
    {
     "name": "stdout",
     "output_type": "stream",
     "text": [
      "sklearn_rti_v3\tsklearn_rti_v3:2\t2\n"
     ]
    }
   ],
   "source": [
    "# register model \n",
    "model = run.register_model(model_name='sklearn_rti_v3', model_path='outputs/sklearn_rti_model_v2.pkl')\n",
    "print(model.name, model.id, model.version, sep='\\t')"
   ]
  },
  {
   "cell_type": "markdown",
   "metadata": {},
   "source": [
    "### Model Deploiment"
   ]
  },
  {
   "cell_type": "code",
   "execution_count": 174,
   "metadata": {},
   "outputs": [
    {
     "data": {
      "text/plain": [
       "os.stat_result(st_mode=33206, st_ino=18014398509933042, st_dev=2824130541, st_nlink=1, st_uid=0, st_gid=0, st_size=622, st_atime=1561313498, st_mtime=1561313498, st_ctime=1561313498)"
      ]
     },
     "execution_count": 174,
     "metadata": {},
     "output_type": "execute_result"
    }
   ],
   "source": [
    "#Retrieve the model \n",
    "from azureml.core import Workspace\n",
    "from azureml.core.model import Model\n",
    "import os \n",
    "\n",
    "ws = Workspace.get(name=\"Dian_ws\", subscription_id='49cf6cbe-2987-4a45-9d6e-955ab6e10fde', resource_group='Dian')\n",
    "model= Model(ws, 'sklearn_rti_v2',version=1)\n",
    "\n",
    "model.download(target_dir=os.getcwd(), exist_ok=True)\n",
    "\n",
    "# verify the downloaded model file\n",
    "file_path = os.path.join(os.getcwd(), \"sklearn_rti_model_v2.pkl\")\n",
    "\n",
    "os.stat(file_path)"
   ]
  },
  {
   "cell_type": "code",
   "execution_count": 175,
   "metadata": {},
   "outputs": [
    {
     "name": "stderr",
     "output_type": "stream",
     "text": [
      "C:\\Users\\dian.kang\\AppData\\Local\\Continuum\\anaconda3\\envs\\tfenv\\lib\\site-packages\\sklearn\\base.py:253: UserWarning: Trying to unpickle estimator LinearRegression from version 0.21.2 when using version 0.20.3. This might lead to breaking code or invalid results. Use at your own risk.\n",
      "  UserWarning)\n"
     ]
    }
   ],
   "source": [
    "# all the packages must be installed for test data\n",
    "#from jours_feries_france.compute import JoursFeries\n",
    "from sklearn.linear_model import LinearRegression\n",
    "import pandas as pd\n",
    "import numpy as np\n",
    "\n",
    "import pickle\n",
    "import joblib\n",
    "\n",
    "model = joblib.load(os.path.join(os.getcwd(), 'sklearn_rti_model_v2.pkl'))"
   ]
  },
  {
   "cell_type": "code",
   "execution_count": 176,
   "metadata": {},
   "outputs": [
    {
     "data": {
      "text/plain": [
       "array([1602.58955912, 1606.95680895, 1609.78598307, 1616.3432072 ,\n",
       "       1615.18012722, 1618.87403936, 1620.38800969, 1616.66855248,\n",
       "       1613.64281653, 1614.59298953, 1614.2553854 , 1612.93239594,\n",
       "       1615.05643547, 1614.89239778, 1615.62147728, 1617.28108172,\n",
       "       1616.78418876, 1618.29686738, 1617.87767572, 1616.83842181,\n",
       "       1612.23102169, 1617.33357518, 1616.48332472, 1615.93933791,\n",
       "       1608.46239199, 1607.10924614, 1605.52512761, 1599.16601768,\n",
       "       1599.73063495, 1587.96882508, 1583.28899946, 1588.8656203 ,\n",
       "       1580.45874464, 1574.54235757, 1575.14611299, 1580.39841188,\n",
       "       1575.35968514, 1580.58452044, 1584.96944995, 1591.82226524,\n",
       "       1590.59266737, 1591.60686733, 1592.74866325, 1591.73804959,\n",
       "       1589.50245711, 1593.86163397, 1593.07072227, 1598.26041413,\n",
       "       1595.75031682, 1592.95816185, 1587.44543819, 1575.08630978,\n",
       "       1576.48056048, 1578.46054762, 1579.41401634, 1580.71950854,\n",
       "       1586.47918658, 1590.18625752, 1589.34462517, 1592.3531233 ,\n",
       "       1585.91678013, 1586.49186711, 1587.53649942, 1588.6030342 ,\n",
       "       1588.17564354, 1580.09085813, 1583.81969056, 1583.62399313,\n",
       "       1574.87586775, 1565.5261299 , 1566.58303031, 1564.3250841 ,\n",
       "       1570.96042522, 1571.51478087, 1577.56669623, 1576.59087106,\n",
       "       1576.63893367, 1575.81442222, 1574.84928307, 1587.00654964,\n",
       "       1581.24798306, 1581.50985509, 1579.87528363, 1584.03420285,\n",
       "       1581.24838485, 1586.20657099, 1587.27312147, 1586.78926527,\n",
       "       1585.84000241, 1591.56078818, 1592.45876719, 1591.9032369 ,\n",
       "       1592.70596353, 1592.33359602, 1593.31663714, 1592.68791561,\n",
       "       1590.6864227 , 1597.86080733, 1599.51450828, 1598.9162037 ,\n",
       "       1602.01799295, 1601.67653045, 1601.28850233, 1599.27539107,\n",
       "       1602.13364333, 1601.52524995, 1605.96714316, 1605.45925179,\n",
       "       1603.63742672, 1603.92006547, 1604.76425851, 1604.38176052,\n",
       "       1603.43254295, 1602.61246569, 1606.05974768, 1607.43294125,\n",
       "       1607.02058782, 1606.41416252, 1607.85372079, 1604.6191555 ,\n",
       "       1603.72526918, 1605.67350329, 1605.17081753, 1605.00079563,\n",
       "       1596.97308228, 1594.87654237, 1591.93069419, 1596.85481468,\n",
       "       1596.00747573, 1599.01598381, 1598.55985114, 1595.75726676,\n",
       "       1594.08524406, 1594.72536229, 1594.40223189, 1595.13568884,\n",
       "       1596.43702253, 1596.72057555, 1603.29176982, 1603.67109241,\n",
       "       1603.24080436, 1597.43062269, 1594.29819489, 1595.03411571,\n",
       "       1590.91173287, 1592.43989142, 1592.03713881, 1583.95220826,\n",
       "       1584.47326622, 1585.71554126, 1581.6953496 , 1582.95668637,\n",
       "       1582.91352602, 1582.74992058, 1579.60351284, 1580.39993287,\n",
       "       1581.62130243, 1582.78903432, 1584.90566281, 1584.33776691,\n",
       "       1588.281154  , 1590.73172582, 1583.43058254, 1587.1752326 ,\n",
       "       1589.37561153, 1588.77443373, 1587.10861167, 1587.4047707 ,\n",
       "       1589.3806951 , 1588.93188658, 1585.0400007 , 1585.26426431,\n",
       "       1581.57282235, 1585.74320143, 1587.16516554, 1589.47434157,\n",
       "       1592.77150732, 1592.03420093, 1587.87548122, 1590.26828444,\n",
       "       1590.58317087, 1587.20225831, 1590.25381994, 1589.64108238,\n",
       "       1589.93842234, 1591.48312418, 1589.59350709, 1589.73832565,\n",
       "       1587.26253833, 1587.30283248, 1582.30291387, 1579.72202942,\n",
       "       1580.18860407, 1575.87400083, 1575.27667654, 1575.14611299,\n",
       "       1575.72419896, 1577.20263638, 1576.71813325, 1575.24884312,\n",
       "       1574.70201072, 1574.5222352 , 1578.80821351, 1575.70006027,\n",
       "       1575.98924497, 1573.4595411 , 1571.55026473, 1571.56010752,\n",
       "       1569.58263721, 1568.14188708, 1561.24280744, 1561.021953  ,\n",
       "       1562.2631212 , 1561.85019292, 1562.77080698, 1563.23849048,\n",
       "       1564.18315565, 1566.28935125, 1568.13294783, 1567.58683272,\n",
       "       1567.66610365, 1570.01728002, 1574.28832111, 1576.16223295,\n",
       "       1577.63543824, 1577.13421933, 1573.10022548, 1573.38486824,\n",
       "       1575.74399862, 1577.43728331, 1576.94434279, 1576.69795712,\n",
       "       1579.45728325, 1576.3573752 , 1578.84663993, 1573.64541905,\n",
       "       1571.35155091, 1571.44979694, 1569.6282738 , 1566.39110754,\n",
       "       1560.15735353, 1553.86558817, 1556.15322192, 1555.70266515,\n",
       "       1554.6289669 , 1560.30600905, 1559.74971429, 1555.42356137,\n",
       "       1553.73587611, 1553.74727775, 1553.48369159, 1548.14873828,\n",
       "       1548.54468459, 1546.26637151, 1542.98675844, 1543.16602104,\n",
       "       1542.84032959, 1541.09608693, 1544.49780741, 1544.14908407,\n",
       "       1554.6528919 , 1553.03670804, 1551.65170055, 1550.35803106,\n",
       "       1553.21636144, 1553.08843858, 1550.29600085, 1550.3725065 ,\n",
       "       1546.46315309, 1545.86213244, 1543.34693787, 1541.09229362,\n",
       "       1536.91234511, 1537.20904673, 1531.02473924, 1523.98273195,\n",
       "       1529.36586706, 1529.5504171 , 1531.08518487, 1530.6028204 ,\n",
       "       1534.73302756, 1534.07418431, 1537.66809579, 1536.30125486,\n",
       "       1535.27562069, 1535.14510433, 1539.71151856, 1530.70885869,\n",
       "       1526.66141995, 1515.24648629, 1517.01092228, 1516.70517226,\n",
       "       1508.93170372, 1512.47045911, 1519.30622825, 1521.22253702,\n",
       "       1518.28537032, 1518.33872821, 1512.0301164 , 1509.61405588,\n",
       "       1506.4332697 , 1499.43317369, 1498.68083309, 1498.62272845,\n",
       "       1495.38434205, 1495.88645868, 1497.83264117, 1501.98439951,\n",
       "       1501.15153181, 1502.94436211, 1503.23703884, 1501.85469819,\n",
       "       1494.00711505, 1505.10154524, 1503.54171248, 1505.14774328,\n",
       "       1509.70581334, 1513.48730508, 1513.23004832, 1514.10591811,\n",
       "       1513.71473245, 1511.48802709, 1513.94626696, 1516.55914268,\n",
       "       1516.49446429, 1527.37019872, 1525.27133392, 1526.68481563,\n",
       "       1520.92440361, 1521.19226275, 1524.42169657, 1529.66772178,\n",
       "       1528.67133829, 1525.1356792 , 1528.10327266, 1530.76740889,\n",
       "       1533.77499909, 1531.82627835, 1531.7464278 , 1535.19098825,\n",
       "       1542.56244098, 1543.24620903, 1535.57733947, 1532.48462738,\n",
       "       1532.72485597, 1535.98260538, 1539.39147025, 1541.54520016,\n",
       "       1540.6412422 , 1547.82684371, 1546.64934728, 1549.31489258,\n",
       "       1549.963507  , 1554.94082074, 1553.66175725, 1555.40006335,\n",
       "       1554.9133215 , 1557.20499933, 1557.31354724, 1556.04033934,\n",
       "       1555.18832036, 1556.88520613, 1556.41147928, 1558.42266406,\n",
       "       1559.40439606, 1556.93346489, 1556.65801724, 1552.68940268,\n",
       "       1552.93109092, 1557.46629963, 1557.93823521, 1558.66903408,\n",
       "       1560.92176   , 1563.37104145, 1562.74662263, 1564.82022457,\n",
       "       1565.73380026, 1564.20505285, 1565.12119372, 1563.56934763,\n",
       "       1563.48081099, 1560.63112741, 1565.90958004, 1566.55444703,\n",
       "       1563.3299506 , 1566.16016332, 1565.57629003, 1572.2930896 ,\n",
       "       1573.26848769, 1576.11203121, 1575.46330946, 1576.84767919,\n",
       "       1576.40003096, 1575.57551536, 1574.57949062, 1577.36140169,\n",
       "       1576.36561301])"
      ]
     },
     "execution_count": 176,
     "metadata": {},
     "output_type": "execute_result"
    }
   ],
   "source": [
    "model.predict(X_train)"
   ]
  },
  {
   "cell_type": "code",
   "execution_count": 209,
   "metadata": {},
   "outputs": [
    {
     "name": "stdout",
     "output_type": "stream",
     "text": [
      "Overwriting score.py\n"
     ]
    }
   ],
   "source": [
    "%%writefile score.py\n",
    "\n",
    "import json\n",
    "import numpy as np\n",
    "import os\n",
    "import pickle\n",
    "import joblib\n",
    "import argparse\n",
    "import pandas as pd\n",
    "\n",
    "from sklearn.linear_model import LinearRegression\n",
    "from azureml.core.model import Model\n",
    "\n",
    "# retrieve the path to the model file using the model name\n",
    "def init():\n",
    "    \n",
    "    global model\n",
    "    # retrieve the path to the model file using the model name\n",
    "    model_path = Model.get_model_path('sklearn_rti_v3',version=2)\n",
    "    model = joblib.load(model_path)\n",
    "    \n",
    "def run(raw_data):\n",
    "    \n",
    "    # load train and test set into numpy arrays\n",
    "    data = np.array(json.loads(raw_data)['data'])\n",
    "    # make prediction\n",
    "    y_hat = model.predict(data)\n",
    "    # you can return any data type as long as it is JSON-serializable\n",
    "    return y_hat.tolist()\n"
   ]
  },
  {
   "cell_type": "code",
   "execution_count": 210,
   "metadata": {},
   "outputs": [],
   "source": [
    "from azureml.core.conda_dependencies import CondaDependencies \n",
    "\n",
    "myenv = CondaDependencies()\n",
    "myenv.add_conda_package(\"scikit-learn\")\n",
    "myenv.add_conda_package(\"pandas\")\n",
    "\n",
    "with open(\"myenv.yml\",\"w\") as f:\n",
    "    f.write(myenv.serialize_to_string())"
   ]
  },
  {
   "cell_type": "code",
   "execution_count": 211,
   "metadata": {},
   "outputs": [],
   "source": [
    "from azureml.core.webservice import AciWebservice\n",
    "\n",
    "aciconfig = AciWebservice.deploy_configuration(cpu_cores=1, \n",
    "                                               memory_gb=1, \n",
    "                                               tags={\"data\": \"rti\",  \"method\" : \"sklearn\"}, \n",
    "                                               description='Predict rti with sklearn')"
   ]
  },
  {
   "cell_type": "code",
   "execution_count": 212,
   "metadata": {},
   "outputs": [
    {
     "name": "stdout",
     "output_type": "stream",
     "text": [
      "Creating image\n",
      "Running...................................\n",
      "Succeeded\n",
      "Image creation operation finished for image sklearn-image-svc1:1, operation \"Succeeded\"\n",
      "Creating service\n",
      "Running...............\n",
      "SucceededACI service creation operation finished, operation \"Succeeded\"\n",
      "Wall time: 4min 32s\n"
     ]
    }
   ],
   "source": [
    "%%time\n",
    "\n",
    "from azureml.core.webservice import Webservice\n",
    "from azureml.core.image import ContainerImage\n",
    "\n",
    "# configure the image\n",
    "image_config = ContainerImage.image_configuration(execution_script=\"score.py\", \n",
    "                                                  runtime=\"python\", \n",
    "                                                  conda_file=\"myenv.yml\")\n",
    "\n",
    "service = Webservice.deploy_from_model(workspace=ws,\n",
    "                                       name='sklearn-image-svc1',\n",
    "                                       deployment_config=aciconfig,\n",
    "                                       models=[model],\n",
    "                                       image_config=image_config)\n",
    "\n",
    "service.wait_for_deployment(show_output=True)"
   ]
  },
  {
   "cell_type": "code",
   "execution_count": null,
   "metadata": {},
   "outputs": [],
   "source": []
  }
 ],
 "metadata": {
  "kernelspec": {
   "display_name": "Python 3",
   "language": "python",
   "name": "python3"
  },
  "language_info": {
   "codemirror_mode": {
    "name": "ipython",
    "version": 3
   },
   "file_extension": ".py",
   "mimetype": "text/x-python",
   "name": "python",
   "nbconvert_exporter": "python",
   "pygments_lexer": "ipython3",
   "version": "3.6.8"
  }
 },
 "nbformat": 4,
 "nbformat_minor": 2
}
